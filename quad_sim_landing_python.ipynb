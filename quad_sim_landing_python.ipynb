{
 "cells": [
  {
   "cell_type": "markdown",
   "metadata": {},
   "source": [
    "# Packages"
   ]
  },
  {
   "cell_type": "code",
   "execution_count": 6,
   "metadata": {
    "collapsed": true
   },
   "outputs": [],
   "source": [
    "import numpy as np\n",
    "import matplotlib.pyplot as plt"
   ]
  },
  {
   "cell_type": "markdown",
   "metadata": {},
   "source": [
    "# Air density and gravity"
   ]
  },
  {
   "cell_type": "code",
   "execution_count": 7,
   "metadata": {
    "collapsed": true
   },
   "outputs": [],
   "source": [
    "rho = 1.225\n",
    "gravity = 9.81"
   ]
  },
  {
   "cell_type": "markdown",
   "metadata": {},
   "source": [
    "# Drone"
   ]
  },
  {
   "cell_type": "code",
   "execution_count": 8,
   "metadata": {
    "collapsed": true
   },
   "outputs": [],
   "source": [
    "class Drone:\n",
    "\n",
    "    def __init__(self, init_z=5, init_v=0):\n",
    "        # Drone parameters\n",
    "        self.mass = 22.79e-3              # mass\n",
    "        self.D = 45e-3                    # radius\n",
    "        self.CT = 0.14                    # thrust coeff\n",
    "        self.Cd = 0.1                     # drag coeff\n",
    "        self.A = 0.01                     # total area\n",
    "        \n",
    "        # Control parameters\n",
    "        self.gain_pos = 0.5               # gain_pos\n",
    "        self.gain_vel = 0.7               # gain_vel\n",
    "        self.K = self.gain_pos*0.2*gravity\n",
    "        self.L = self.gain_vel*0.3*gravity\n",
    "        \n",
    "        # States\n",
    "        self.z = init_z                   # height\n",
    "        self.v = init_v                   # velocity\n",
    "        self.a = 0                        # acceleration\n",
    "        self.u = 0                        # control signal\n",
    "        \n",
    "        # Desired and actual force\n",
    "        self.Fd = 0\n",
    "        self.F = 0\n",
    "        \n",
    "        # Noise\n",
    "        self.a_noise_sigma = 0.5\n",
    "        self.u_noise_sigma = 30\n",
    "        self.a_noise = 0\n",
    "        self.u_noise = 0\n",
    "        \n",
    "        # Step\n",
    "        self.step_size = 1e-4\n",
    "        self.total_step = 0\n",
    "        \n",
    "    def position_controller(self, des_pos=0, des_vel=0):\n",
    "        ez = des_pos - self.z\n",
    "        dez = des_vel - self.v\n",
    "        \n",
    "        if (self.K*ez + gravity) > 0:\n",
    "            self.Fd = self.mass*(self.K*ez + gravity) + self.mass*self.L*dez \n",
    "        else:\n",
    "            self.Fd = self.mass*self.L*dez\n",
    "        \n",
    "        u_square = 1.0/(4*rho*self.D**4*self.CT)*self.Fd\n",
    "        if u_square < 0:\n",
    "            u_square = 0\n",
    "        \n",
    "        self.u = np.sqrt(u_square)\n",
    "\n",
    "    def dynamics(self):\n",
    "        # Noise freq is 100\n",
    "        if not self.total_step % 100: \n",
    "            self.a_noise = np.random.normal(0, self.a_noise_sigma)\n",
    "            self.u_noise = np.random.normal(0, self.u_noise_sigma)\n",
    "        \n",
    "        u = self.u + self.u_noise\n",
    "        \n",
    "        C_ground_effect = 1.0/(1 - 4*(0.5*self.D/(4*(0.05 + self.z)))**2)\n",
    "        self.F = 4*self.CT*C_ground_effect*rho*u**2*self.D**4\n",
    "        \n",
    "        self.a = self.F/self.mass - gravity - 0.5*rho*self.A*self.Cd*np.abs(self.v)*self.v/self.mass + self.a_noise\n",
    "        \n",
    "    def process(self):\n",
    "        self.position_controller()\n",
    "        self.dynamics()\n",
    "        self.z = self.z + self.step_size*self.v\n",
    "        self.v = self.v + self.step_size*self.a\n",
    "        self.total_step += 1\n",
    "    \n",
    "    def simulate(self, duration=10):\n",
    "        Height = []\n",
    "        Height = np.append(Height, self.z)\n",
    "        Velocity = []\n",
    "        Velocity = np.append(Velocity, self.v)\n",
    "        Control = []\n",
    "        Acceleration = []\n",
    "        while True:\n",
    "            self.process()\n",
    "            Height = np.append(Height, self.z)\n",
    "            Velocity = np.append(Velocity, self.v)\n",
    "            Control = np.append(Control, self.u)\n",
    "            Acceleration = np.append(Acceleration, self.a)\n",
    "            if not self.total_step % 1000:\n",
    "                print('Simulation time: ' + str(self.total_step*self.step_size))\n",
    "            if self.step_size*self.total_step >= duration:\n",
    "                break\n",
    "        return Height[:-1], Velocity[:-1], Control, Acceleration"
   ]
  },
  {
   "cell_type": "markdown",
   "metadata": {},
   "source": [
    "# Simulation"
   ]
  },
  {
   "cell_type": "code",
   "execution_count": 11,
   "metadata": {},
   "outputs": [],
   "source": [
    "def Simulate():\n",
    "    drone = Drone()\n",
    "    Height, Velocity, Control, Acceleration = drone.simulate()\n",
    "    time = np.linspace(0.001,10,10e4)\n",
    "    plt.plot(time[:], Height)\n",
    "    plt.xlabel(\"time/s\")\n",
    "    plt.ylabel(\"height/m\")\n",
    "    plt.title(\"Height\")\n",
    "    # plt.savefig('height.png')\n",
    "    plt.show()\n",
    "    \n",
    "    plt.plot(time[:], Velocity)\n",
    "    plt.xlabel(\"time/s\")\n",
    "    plt.ylabel(\"velocity/m/s\")\n",
    "    plt.title(\"Velocity\")\n",
    "    # plt.savefig('velocity.png')\n",
    "    plt.show()\n",
    "    \n",
    "    plt.plot(time[:], Control)\n",
    "    plt.xlabel(\"time/s\")\n",
    "    plt.ylabel(\"control/rps\")\n",
    "    plt.title(\"Control\")\n",
    "    # plt.savefig('control.png')\n",
    "    plt.show()"
   ]
  },
  {
   "cell_type": "code",
   "execution_count": 12,
   "metadata": {},
   "outputs": [
    {
     "name": "stdout",
     "output_type": "stream",
     "text": [
      "Simulation time: 0.1\n",
      "Simulation time: 0.2\n",
      "Simulation time: 0.3\n",
      "Simulation time: 0.4\n",
      "Simulation time: 0.5\n",
      "Simulation time: 0.6\n",
      "Simulation time: 0.7000000000000001\n",
      "Simulation time: 0.8\n",
      "Simulation time: 0.9\n",
      "Simulation time: 1.0\n",
      "Simulation time: 1.1\n",
      "Simulation time: 1.2\n",
      "Simulation time: 1.3\n",
      "Simulation time: 1.4000000000000001\n",
      "Simulation time: 1.5\n",
      "Simulation time: 1.6\n",
      "Simulation time: 1.7000000000000002\n",
      "Simulation time: 1.8\n",
      "Simulation time: 1.9000000000000001\n",
      "Simulation time: 2.0\n",
      "Simulation time: 2.1\n",
      "Simulation time: 2.2\n",
      "Simulation time: 2.3000000000000003\n",
      "Simulation time: 2.4\n",
      "Simulation time: 2.5\n",
      "Simulation time: 2.6\n",
      "Simulation time: 2.7\n",
      "Simulation time: 2.8000000000000003\n",
      "Simulation time: 2.9000000000000004\n",
      "Simulation time: 3.0\n",
      "Simulation time: 3.1\n",
      "Simulation time: 3.2\n",
      "Simulation time: 3.3000000000000003\n",
      "Simulation time: 3.4000000000000004\n",
      "Simulation time: 3.5\n",
      "Simulation time: 3.6\n",
      "Simulation time: 3.7\n",
      "Simulation time: 3.8000000000000003\n",
      "Simulation time: 3.9000000000000004\n",
      "Simulation time: 4.0\n",
      "Simulation time: 4.1000000000000005\n",
      "Simulation time: 4.2\n",
      "Simulation time: 4.3\n",
      "Simulation time: 4.4\n",
      "Simulation time: 4.5\n",
      "Simulation time: 4.6000000000000005\n",
      "Simulation time: 4.7\n",
      "Simulation time: 4.8\n",
      "Simulation time: 4.9\n",
      "Simulation time: 5.0\n",
      "Simulation time: 5.1000000000000005\n",
      "Simulation time: 5.2\n",
      "Simulation time: 5.3\n",
      "Simulation time: 5.4\n",
      "Simulation time: 5.5\n",
      "Simulation time: 5.6000000000000005\n",
      "Simulation time: 5.7\n",
      "Simulation time: 5.800000000000001\n",
      "Simulation time: 5.9\n",
      "Simulation time: 6.0\n",
      "Simulation time: 6.1000000000000005\n",
      "Simulation time: 6.2\n",
      "Simulation time: 6.300000000000001\n",
      "Simulation time: 6.4\n",
      "Simulation time: 6.5\n",
      "Simulation time: 6.6000000000000005\n",
      "Simulation time: 6.7\n",
      "Simulation time: 6.800000000000001\n",
      "Simulation time: 6.9\n",
      "Simulation time: 7.0\n",
      "Simulation time: 7.1000000000000005\n",
      "Simulation time: 7.2\n",
      "Simulation time: 7.300000000000001\n",
      "Simulation time: 7.4\n",
      "Simulation time: 7.5\n",
      "Simulation time: 7.6000000000000005\n",
      "Simulation time: 7.7\n",
      "Simulation time: 7.800000000000001\n",
      "Simulation time: 7.9\n",
      "Simulation time: 8.0\n",
      "Simulation time: 8.1\n",
      "Simulation time: 8.200000000000001\n",
      "Simulation time: 8.3\n",
      "Simulation time: 8.4\n",
      "Simulation time: 8.5\n",
      "Simulation time: 8.6\n",
      "Simulation time: 8.700000000000001\n",
      "Simulation time: 8.8\n",
      "Simulation time: 8.9\n",
      "Simulation time: 9.0\n",
      "Simulation time: 9.1\n",
      "Simulation time: 9.200000000000001\n",
      "Simulation time: 9.3\n",
      "Simulation time: 9.4\n",
      "Simulation time: 9.5\n",
      "Simulation time: 9.6\n",
      "Simulation time: 9.700000000000001\n",
      "Simulation time: 9.8\n",
      "Simulation time: 9.9\n",
      "Simulation time: 10.0\n"
     ]
    },
    {
     "name": "stderr",
     "output_type": "stream",
     "text": [
      "/Users/GuanyaShi/anaconda3/lib/python3.6/site-packages/ipykernel_launcher.py:4: DeprecationWarning: object of type <class 'float'> cannot be safely interpreted as an integer.\n",
      "  after removing the cwd from sys.path.\n"
     ]
    },
    {
     "data": {
      "image/png": "[encoded data removed]",
      "text/plain": [
       "<matplotlib.figure.Figure at 0x10a6010b8>"
      ]
     },
     "metadata": {},
     "output_type": "display_data"
    },
    {
     "data": {
      "image/png": "[encoded data removed]",
      "text/plain": [
       "<matplotlib.figure.Figure at 0x10a5e9ef0>"
      ]
     },
     "metadata": {},
     "output_type": "display_data"
    },
    {
     "data": {
      "image/png": "[encoded data removed]",
      "text/plain": [
       "<matplotlib.figure.Figure at 0x10a5b0da0>"
      ]
     },
     "metadata": {},
     "output_type": "display_data"
    }
   ],
   "source": [
    "Simulate()"
   ]
  },
  {
   "cell_type": "code",
   "execution_count": null,
   "metadata": {
    "collapsed": true
   },
   "outputs": [],
   "source": []
  }
 ],
 "metadata": {
  "kernelspec": {
   "display_name": "Python 3",
   "language": "python",
   "name": "python3"
  },
  "language_info": {
   "codemirror_mode": {
    "name": "ipython",
    "version": 3
   },
   "file_extension": ".py",
   "mimetype": "text/x-python",
   "name": "python",
   "nbconvert_exporter": "python",
   "pygments_lexer": "ipython3",
   "version": "3.6.3"
  }
 },
 "nbformat": 4,
 "nbformat_minor": 2
}
